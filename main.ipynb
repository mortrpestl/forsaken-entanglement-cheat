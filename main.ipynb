{
 "cells": [
  {
   "cell_type": "code",
   "execution_count": null,
   "id": "b647e4d3-34d5-4bc5-bce4-14ee9b0a45b4",
   "metadata": {},
   "outputs": [],
   "source": [
    "\"\"\"\n",
    "Initializing\n",
    "    training_data and test_data\n",
    "    DataSet as an argument to DataLoader (wraps iterable over dataset, supports auto batching, sampling, shuffling, multiprocess data loading)\n",
    "Creating Models\n",
    "    defining model using classNeuralNetwork(nn.Module)\n",
    "    define accelerator (if there is)\n",
    "    use init to define layers of network\n",
    "    use forward to specify how data will pass through neural network\n",
    "    move to accelerator using model = NeuralNetwork().to(device)\n",
    "Optimizing the Model Parameters\n",
    "    loss_fn and optimizer\n",
    "    def train(dataloader, model, loss_fn, optimizer)\n",
    "    predictions on training dataset (in batches)\n",
    "    backpropagation of prediction error to adjust model’s parameters\n",
    "    epochs\n",
    "Saving Models\n",
    "    torch.save(model.state_dict(), “model.pth”)\n",
    "    Loading Models (this model can now be used to make predictions)\n",
    "    model = NeuralNetwork().to(device)\n",
    "    model.load_state_dict(torch.load(“model.pth”, weights_only=True))\n",
    "Model Evaluation\n",
    "\"\"\""
   ]
  },
  {
   "cell_type": "markdown",
   "id": "336fcaf2-3fa0-4e48-9c0a-da4ff35c8898",
   "metadata": {},
   "source": [
    "# The Plan\n",
    "1. Get sample data from Forsaken gameplay (isolated windows, windows in actual gameplay)\n",
    "    - around 50 pictures of 1x1x1x1\n",
    "2. Train model to detect photos\n",
    "    - <>\n",
    "3. Test it on pictures, videos, and actual gameplay\n",
    "    - <>"
   ]
  },
  {
   "cell_type": "code",
   "execution_count": null,
   "id": "da118718-82b3-45e1-9694-80c8d8e45541",
   "metadata": {},
   "outputs": [],
   "source": []
  }
 ],
 "metadata": {
  "kernelspec": {
   "display_name": "Python 3 (ipykernel)",
   "language": "python",
   "name": "python3"
  },
  "language_info": {
   "codemirror_mode": {
    "name": "ipython",
    "version": 3
   },
   "file_extension": ".py",
   "mimetype": "text/x-python",
   "name": "python",
   "nbconvert_exporter": "python",
   "pygments_lexer": "ipython3",
   "version": "3.12.3"
  }
 },
 "nbformat": 4,
 "nbformat_minor": 5
}
